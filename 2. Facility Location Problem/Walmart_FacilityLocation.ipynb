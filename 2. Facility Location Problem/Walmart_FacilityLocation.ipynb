{
 "cells": [
  {
   "cell_type": "markdown",
   "metadata": {},
   "source": [
    "<h1><center>Walmart</center></h1>\n",
    "<h2><center>Capacitated Facility Location</center></h2>\n",
    "\n",
    "Developed by: Daniel A. Zuniga Vazquez\\\n",
    "Date: 10/02/2021\\\n",
    "Version 1.0.0 \n",
    "\n",
    "Sets and indices\\\n",
    "$I$: Set of facilities, indexed by $i$.\\\n",
    "$J$: Set of customers, indexed by $j$\n",
    "\n",
    "Parameters\\\n",
    "$c_{ij}$: Cost of facility $i$ to supply to customer $j$.\\\n",
    "$d_j$:Demand of customer $j$.\\\n",
    "$f_i$:Cost of adding facility $i$.\\\n",
    "$u_i$:Capacity of facility $i$.\n",
    "\n",
    "Variables\\\n",
    "$x_i$: Binary variables that is 1 if facility $i$ is assigned and 0 otherwise.\\\n",
    "$y_{ij}$: Fraction of demand supplied from facility $i$ to customer $j$.\n",
    "\n",
    "Problem Formulation\\\n",
    "$\n",
    "\\begin{align}\n",
    "\\min_{\\pmb{x},\\pmb{y}}~& \\sum_{i \\in I} \\sum_{ j \\in J} c_{ij} d_j y_{ij} + \\sum_{i \\in I} f_i x_i & \\text{Objective function}\\\\\n",
    "    \\text{s.t. } &  \\sum_{i \\in I} y_{ij} = 1,~\\forall j \\in J  & \\text{2.1a - Satisfied fraction of demand}\\\\\n",
    "    & \\sum_{j \\in J} d_j y_{ij} \\leq u_i x_i,~\\forall i \\in I & \\text{2.1b - Facility capacity}\\\\\n",
    "    & y_{ij} \\leq 0, x_i \\in \\{0,1\\},~\\forall i \\in I, \\forall j \\in J & \\text{2.1c - Domain}\n",
    "\\end{align}\n",
    "$\n"
   ]
  },
  {
   "cell_type": "code",
   "execution_count": null,
   "metadata": {},
   "outputs": [],
   "source": [
    "# For purposes of this Examples tutorial, we will restart the kernel for each problem\n",
    "import os\n",
    "os._exit(00)"
   ]
  },
  {
   "cell_type": "code",
   "execution_count": 1,
   "metadata": {},
   "outputs": [],
   "source": [
    "# To plot interactable figures and print in notebook\n",
    "%matplotlib notebook\n",
    "\n",
    "# Libraries\n",
    "import pandas as pd                #data manipulation and analysis library\n",
    "import numpy as np                 #array and matrices library\n",
    "from docplex.mp.model import Model #cplex library\n",
    "\n",
    "from IPython.core.debugger import set_trace #Library to help with debgging      Use set_trace()   if breakpoint is needed\n",
    "# Debugging commands ONLY use first letter\n",
    "# n(ext) execute the current statement (step over)\n",
    "# s(tep) execute and step into function\n",
    "# r(eturn) continue execution until the current function returns\n",
    "# c(ontinue) continue execution until a breakpoint is encountered\n",
    "# u(p) move one level up in the stack trace\n",
    "# d(own) move one level down in the stack trace"
   ]
  },
  {
   "cell_type": "code",
   "execution_count": 2,
   "metadata": {},
   "outputs": [],
   "source": [
    "# Reading parameters from external TXT\n",
    "#*******************************************\n",
    "# NOTE: for this purpose, a dummy initial row of zeros is added in the txt file matching the length of the last column\n",
    "\n",
    "# File name must be in the same directory as the python file, or you can use the complete path if not\n",
    "fileName = 'Walmart_CapacitatedFacilityLocation.txt'\n",
    "\n",
    "# Identify the length of the column\n",
    "columns = max(len(l.split()) for l in open(fileName))\n",
    "\n",
    "# Use panda read_table function to read all the values in a table\n",
    "tableValues = pd.read_table(fileName, \n",
    "                    delim_whitespace=True, \n",
    "                    header=None, \n",
    "                    usecols=range(columns), \n",
    "                    engine='python')\n",
    "\n",
    "# Transform the table values into a numpy array, missing values will be identified as NaN just to complete the matrix\n",
    "# Note that the dummy initial row of zeros is still there and integers will be read as float, so the integer conversion\n",
    "# required\n",
    "iData = np.array(tableValues)\n",
    "\n",
    "# Declare parameters\n",
    "I = int(iData[1][0])       # Set of facilities, cardinality\n",
    "J = int(iData[2][0])        # Set of customers, cardinality\n",
    "\n",
    "# c[i][j]: Cost of facility i to supply to customer j. \n",
    "c = {(i,j):int((iData[i+3][j])) for i in range(I) for j in range(J)} \n",
    "\n",
    "f = {(i):int((iData[I+3][i])) for i in range(I)}    # Cost of adding facility i.\n",
    "d = {(j):int((iData[I+4][j])) for j in range(J)}    # Demand of customer j.\n",
    "u = {(i):int((iData[I+5][i])) for i in range(I)}    # Capacity of facility i."
   ]
  },
  {
   "cell_type": "code",
   "execution_count": 3,
   "metadata": {},
   "outputs": [
    {
     "data": {
      "text/plain": [
       "{0: 3000, 1: 4000, 2: 5000}"
      ]
     },
     "execution_count": 3,
     "metadata": {},
     "output_type": "execute_result"
    }
   ],
   "source": [
    "# Creates cplex model\n",
    "mycplex = Model('CapacitatedFacilityLocation_PYTHON')   #Name of Model"
   ]
  },
  {
   "cell_type": "code",
   "execution_count": 7,
   "metadata": {},
   "outputs": [],
   "source": [
    "# Declare variables\n",
    "\n",
    "# Auxiliary array to create binary variable name\n",
    "nameX = [(i) for i in range(I)] \n",
    "# x[i]: Binary variables that is 1 if facility i is assigned and 0 otherwise.\n",
    "x = mycplex.binary_var_dict(nameX, name='x')\n",
    "\n",
    "# Auxiliary array to create continuous variable name\n",
    "nameY = [(i,j) for i in range(I) for j in range(J)]  \n",
    "# y[i][j]: Fraction of demand supplied from facility i to customer j.\n",
    "y = mycplex.continuous_var_dict(nameY, lb=0, ub=1, name='y',)\n"
   ]
  },
  {
   "cell_type": "code",
   "execution_count": 8,
   "metadata": {},
   "outputs": [],
   "source": [
    "# Create objective\n",
    "\n",
    "OBJ = 0\n",
    "for i in range(I):\n",
    "    OBJ += f[i]*x[i]\n",
    "    for j in range(J):\n",
    "        OBJ += c[i,j]* d[j] * y[i,j]\n",
    "\n",
    "mycplex.minimize(OBJ) "
   ]
  },
  {
   "cell_type": "code",
   "execution_count": 9,
   "metadata": {},
   "outputs": [],
   "source": [
    "# Adding constraints\n",
    "\n",
    "# Constraint 2.1a - Satisfied fraction of demand\n",
    "for j in range(J):\n",
    "    mycplex.add_constraint(sum(y[i,j] for i in range(I)) == 1)\n",
    "\n",
    "# Constraint 2.1b - Facility capacity\n",
    "for i in range(I):\n",
    "    mycplex.add_constraint(sum(d[j] * y[i,j] for j in range(J)) - (u[i] * x[i]) <= 0)\n"
   ]
  },
  {
   "cell_type": "code",
   "execution_count": 10,
   "metadata": {},
   "outputs": [
    {
     "data": {
      "text/plain": [
       "'CapacitatedFacilityLocation_PYTHON.mps'"
      ]
     },
     "execution_count": 10,
     "metadata": {},
     "output_type": "execute_result"
    }
   ],
   "source": [
    "#Export cplex model\n",
    "mycplex.export_as_lp('CapacitatedFacilityLocation_PYTHON')  # exports model in lp format\n",
    "mycplex.export_as_mps('CapacitatedFacilityLocation_PYTHON') # exports model in mps format"
   ]
  },
  {
   "cell_type": "code",
   "execution_count": 11,
   "metadata": {
    "scrolled": true
   },
   "outputs": [
    {
     "name": "stdout",
     "output_type": "stream",
     "text": [
      "Version identifier: 20.1.0.0 | 2020-11-10 | 9bedb6d68\n",
      "CPXPARAM_Read_DataCheck                          1\n",
      "Tried aggregator 1 time.\n",
      "Reduced MIP has 9 rows, 21 columns, and 39 nonzeros.\n",
      "Reduced MIP has 3 binaries, 0 generals, 0 SOSs, and 0 indicators.\n",
      "Presolve time = 0.00 sec. (0.01 ticks)\n",
      "Found incumbent of value 13443.000000 after 0.00 sec. (0.06 ticks)\n",
      "Probing time = 0.00 sec. (0.00 ticks)\n",
      "Tried aggregator 1 time.\n",
      "Detecting symmetries...\n",
      "Reduced MIP has 9 rows, 21 columns, and 39 nonzeros.\n",
      "Reduced MIP has 3 binaries, 0 generals, 0 SOSs, and 0 indicators.\n",
      "Presolve time = 0.00 sec. (0.02 ticks)\n",
      "Probing time = 0.00 sec. (0.00 ticks)\n",
      "MIP emphasis: balance optimality and feasibility.\n",
      "MIP search method: dynamic search.\n",
      "Parallel mode: deterministic, using up to 8 threads.\n",
      "Root relaxation solution time = 0.00 sec. (0.02 ticks)\n",
      "\n",
      "        Nodes                                         Cuts/\n",
      "   Node  Left     Objective  IInf  Best Integer    Best Bound    ItCnt     Gap\n",
      "\n",
      "*     0+    0                        13443.0000        0.0000           100.00%\n",
      "      0     0     7221.0000     1    13443.0000     7221.0000        7   46.28%\n",
      "*     0+    0                         7781.0000     7221.0000             7.20%\n",
      "*     0+    0                         7767.0000     7221.0000             7.03%\n",
      "      0     0     7242.0000     1     7767.0000       Cuts: 2       10    6.76%\n",
      "      0     0        cutoff           7767.0000                     11    0.00%\n",
      "Elapsed time = 0.05 sec. (0.20 ticks, tree = 0.01 MB, solutions = 3)\n",
      "\n",
      "Mixed integer rounding cuts applied:  1\n",
      "\n",
      "Root node processing (before b&c):\n",
      "  Real time             =    0.05 sec. (0.20 ticks)\n",
      "Parallel b&c, 8 threads:\n",
      "  Real time             =    0.00 sec. (0.00 ticks)\n",
      "  Sync time (average)   =    0.00 sec.\n",
      "  Wait time (average)   =    0.00 sec.\n",
      "                          ------------\n",
      "Total (root+branch&cut) =    0.05 sec. (0.20 ticks)\n"
     ]
    }
   ],
   "source": [
    "# Solve Cplex model\n",
    "solution = mycplex.solve(log_output = True)"
   ]
  },
  {
   "cell_type": "code",
   "execution_count": 12,
   "metadata": {},
   "outputs": [
    {
     "name": "stdout",
     "output_type": "stream",
     "text": [
      "solution for: CapacitatedFacilityLocation_PYTHON\n",
      "objective: 7767\n",
      "x_0=1\n",
      "x_1=1\n",
      "y_0_0=1.000\n",
      "y_0_5=0.889\n",
      "y_1_1=1.000\n",
      "y_1_2=1.000\n",
      "y_1_3=1.000\n",
      "y_1_4=1.000\n",
      "y_1_5=0.111\n",
      "\n"
     ]
    }
   ],
   "source": [
    "# Print Solutions\n",
    "print(solution)"
   ]
  },
  {
   "cell_type": "markdown",
   "metadata": {},
   "source": [
    "<h1><center>Walmart</center></h1>\n",
    "<h2><center>Uncapacitated Facility Location</center></h2>\n",
    "\n",
    "Developed by: Daniel A. Zuniga Vazquez\\\n",
    "Date: 10/02/2021\\\n",
    "Version 1.0.0 \n",
    "\n",
    "Sets and indices\\\n",
    "$I$: Set of facilities, indexed by $i$.\\\n",
    "$J$: Set of customers, indexed by $j$\n",
    "\n",
    "Parameters\\\n",
    "$c_{ij}$: Cost of facility $i$ to supply to customer $j$.\\\n",
    "$d_j$:Demand of customer $j$.\\\n",
    "$f_i$:Cost of adding facility $i$.\\\n",
    "$M$:Big M, i.e., sufficiently big number.\n",
    "\n",
    "Variables\\\n",
    "$x_i$: Binary variables that is 1 if facility $i$ is assigned and 0 otherwise.\\\n",
    "$y_{ij}$: Fraction of demand supplied from facility $i$ to customer $j$.\n",
    "\n",
    "Problem Formulation\\\n",
    "$\n",
    "\\begin{align}\n",
    "\\min_{\\pmb{x},\\pmb{y}}~& \\sum_{i \\in I} \\sum_{ j \\in J} c_{ij} d_j y_{ij} + \\sum_{i \\in I} f_i x_i & \\text{Objective function}\\\\\n",
    "    \\text{s.t. } &  \\sum_{i \\in I} y_{ij} = 1,~\\forall j \\in J  & \\text{2.1a - Satisfied fraction of demand}\\\\\n",
    "    & \\sum_{j \\in J} d_j y_{ij} \\leq M x_i,~\\forall i \\in I & \\text{2.1b - Facility capacity}\\\\\n",
    "    & y_{ij} \\leq 0, x_i \\in \\{0,1\\},~\\forall i \\in I, \\forall j \\in J & \\text{2.1c - Domain}\n",
    "\\end{align}\n",
    "$\n"
   ]
  },
  {
   "cell_type": "code",
   "execution_count": null,
   "metadata": {},
   "outputs": [],
   "source": [
    "# For purposes of this Examples tutorial, we will restart the kernel for each problem\n",
    "import os\n",
    "os._exit(00)"
   ]
  },
  {
   "cell_type": "code",
   "execution_count": 1,
   "metadata": {},
   "outputs": [],
   "source": [
    "# To plot interactable figures and print in notebook\n",
    "%matplotlib notebook\n",
    "\n",
    "# Libraries\n",
    "import pandas as pd                #data manipulation and analysis library\n",
    "import numpy as np                 #array and matrices library\n",
    "from docplex.mp.model import Model #cplex library\n",
    "\n",
    "from IPython.core.debugger import set_trace #Library to help with debgging      Use set_trace()   if breakpoint is needed\n",
    "# Debugging commands ONLY use first letter\n",
    "# n(ext) execute the current statement (step over)\n",
    "# s(tep) execute and step into function\n",
    "# r(eturn) continue execution until the current function returns\n",
    "# c(ontinue) continue execution until a breakpoint is encountered\n",
    "# u(p) move one level up in the stack trace\n",
    "# d(own) move one level down in the stack trace"
   ]
  },
  {
   "cell_type": "code",
   "execution_count": 2,
   "metadata": {},
   "outputs": [],
   "source": [
    "# Reading parameters from external TXT\n",
    "#*******************************************\n",
    "# NOTE: for this purpose, a dummy initial row of zeros is added in the txt file matching the length of the last column\n",
    "\n",
    "# File name must be in the same directory as the python file, or you can use the complete path if not\n",
    "fileName = 'Walmart_UncapacitatedFacilityLocation.txt'\n",
    "\n",
    "# Identify the length of the column\n",
    "columns = max(len(l.split()) for l in open(fileName))\n",
    "\n",
    "# Use panda read_table function to read all the values in a table\n",
    "tableValues = pd.read_table(fileName, \n",
    "                    delim_whitespace=True, \n",
    "                    header=None, \n",
    "                    usecols=range(columns), \n",
    "                    engine='python')\n",
    "\n",
    "# Transform the table values into a numpy array, missing values will be identified as NaN just to complete the matrix\n",
    "# Note that the dummy initial row of zeros is still there and integers will be read as float, so the integer conversion\n",
    "# required\n",
    "iData = np.array(tableValues)\n",
    "\n",
    "# Declare parameters\n",
    "I = int(iData[1][0])       # Set of facilities, cardinality\n",
    "J = int(iData[2][0])        # Set of customers, cardinality\n",
    "\n",
    "# c[i][j]: Cost of facility i to supply to customer j. \n",
    "c = {(i,j):int((iData[i+3][j])) for i in range(I) for j in range(J)} \n",
    "\n",
    "f = {(i):int((iData[I+3][i])) for i in range(I)}    # Cost of adding facility i.\n",
    "d = {(j):int((iData[I+4][j])) for j in range(J)}    # Demand of customer j.\n",
    "M = int(iData[I+5][0])    # Capacity of facility i."
   ]
  },
  {
   "cell_type": "code",
   "execution_count": 3,
   "metadata": {},
   "outputs": [],
   "source": [
    "# Creates cplex model\n",
    "mycplex = Model('UncapacitatedFacilityLocation_PYTHON')   #Name of Model"
   ]
  },
  {
   "cell_type": "code",
   "execution_count": 4,
   "metadata": {},
   "outputs": [],
   "source": [
    "# Declare variables\n",
    "\n",
    "# Auxiliary array to create binary variable name\n",
    "nameX = [(i) for i in range(I)] \n",
    "# x[i]: Binary variables that is 1 if facility i is assigned and 0 otherwise.\n",
    "x = mycplex.binary_var_dict(nameX, name='x')\n",
    "\n",
    "# Auxiliary array to create continuous variable name\n",
    "nameY = [(i,j) for i in range(I) for j in range(J)]  \n",
    "# y[i][j]: Fraction of demand supplied from facility i to customer j.\n",
    "y = mycplex.continuous_var_dict(nameY, lb=0, ub=1, name='y',)"
   ]
  },
  {
   "cell_type": "code",
   "execution_count": 5,
   "metadata": {},
   "outputs": [],
   "source": [
    "# Create objective\n",
    "\n",
    "OBJ = 0\n",
    "for i in range(I):\n",
    "    OBJ += f[i]*x[i]\n",
    "    for j in range(J):\n",
    "        OBJ += c[i,j]* d[j] * y[i,j]\n",
    "\n",
    "mycplex.minimize(OBJ) "
   ]
  },
  {
   "cell_type": "code",
   "execution_count": 6,
   "metadata": {},
   "outputs": [],
   "source": [
    "# Adding constraints\n",
    "\n",
    "# Constraint 2.1a - Satisfied fraction of demand\n",
    "for j in range(J):\n",
    "    mycplex.add_constraint(sum(y[i,j] for i in range(I)) == 1)\n",
    "\n",
    "# Constraint 2.1b - Facility capacity\n",
    "for i in range(I):\n",
    "    mycplex.add_constraint(sum(d[j] * y[i,j] for j in range(J)) - (M * x[i]) <= 0)\n"
   ]
  },
  {
   "cell_type": "code",
   "execution_count": 7,
   "metadata": {},
   "outputs": [
    {
     "data": {
      "text/plain": [
       "'UncapacitatedFacilityLocation_PYTHON.mps'"
      ]
     },
     "execution_count": 7,
     "metadata": {},
     "output_type": "execute_result"
    }
   ],
   "source": [
    "#Export cplex model\n",
    "mycplex.export_as_lp('UncapacitatedFacilityLocation_PYTHON')  # exports model in lp format\n",
    "mycplex.export_as_mps('UncapacitatedFacilityLocation_PYTHON') # exports model in mps format"
   ]
  },
  {
   "cell_type": "code",
   "execution_count": 8,
   "metadata": {},
   "outputs": [
    {
     "name": "stdout",
     "output_type": "stream",
     "text": [
      "Version identifier: 20.1.0.0 | 2020-11-10 | 9bedb6d68\n",
      "CPXPARAM_Read_DataCheck                          1\n",
      "Found incumbent of value 4185.000000 after 0.00 sec. (0.00 ticks)\n",
      "Tried aggregator 1 time.\n",
      "MIP Presolve modified 3 coefficients.\n",
      "Reduced MIP has 9 rows, 21 columns, and 39 nonzeros.\n",
      "Reduced MIP has 3 binaries, 0 generals, 0 SOSs, and 0 indicators.\n",
      "Presolve time = 0.00 sec. (0.02 ticks)\n",
      "Probing time = 0.00 sec. (0.00 ticks)\n",
      "Tried aggregator 1 time.\n",
      "Detecting symmetries...\n",
      "Reduced MIP has 9 rows, 21 columns, and 39 nonzeros.\n",
      "Reduced MIP has 3 binaries, 0 generals, 0 SOSs, and 0 indicators.\n",
      "Presolve time = 0.02 sec. (0.02 ticks)\n",
      "Probing time = 0.00 sec. (0.00 ticks)\n",
      "MIP emphasis: balance optimality and feasibility.\n",
      "MIP search method: dynamic search.\n",
      "Parallel mode: deterministic, using up to 8 threads.\n",
      "Root relaxation solution time = 0.00 sec. (0.01 ticks)\n",
      "\n",
      "        Nodes                                         Cuts/\n",
      "   Node  Left     Objective  IInf  Best Integer    Best Bound    ItCnt     Gap\n",
      "\n",
      "*     0+    0                         4185.0000        0.0000           100.00%\n",
      "      0     0     4157.6747     2     4185.0000     4157.6747        0    0.65%\n",
      "      0     0        cutoff           4185.0000                      1    0.00%\n",
      "Elapsed time = 0.03 sec. (0.11 ticks, tree = 0.01 MB, solutions = 1)\n",
      "\n",
      "Root node processing (before b&c):\n",
      "  Real time             =    0.03 sec. (0.11 ticks)\n",
      "Parallel b&c, 8 threads:\n",
      "  Real time             =    0.00 sec. (0.00 ticks)\n",
      "  Sync time (average)   =    0.00 sec.\n",
      "  Wait time (average)   =    0.00 sec.\n",
      "                          ------------\n",
      "Total (root+branch&cut) =    0.03 sec. (0.11 ticks)\n"
     ]
    }
   ],
   "source": [
    "# Solve Cplex model\n",
    "solution = mycplex.solve(log_output = True)"
   ]
  },
  {
   "cell_type": "code",
   "execution_count": 9,
   "metadata": {},
   "outputs": [
    {
     "name": "stdout",
     "output_type": "stream",
     "text": [
      "solution for: UncapacitatedFacilityLocation_PYTHON\n",
      "objective: 4185\n",
      "x_0=1\n",
      "y_0_0=1.000\n",
      "y_0_1=1.000\n",
      "y_0_2=1.000\n",
      "y_0_3=1.000\n",
      "y_0_4=1.000\n",
      "y_0_5=1.000\n",
      "\n"
     ]
    }
   ],
   "source": [
    "# Print Solutions\n",
    "print(solution)"
   ]
  },
  {
   "cell_type": "code",
   "execution_count": null,
   "metadata": {},
   "outputs": [],
   "source": []
  }
 ],
 "metadata": {
  "kernelspec": {
   "display_name": "Python 3",
   "language": "python",
   "name": "python3"
  },
  "language_info": {
   "codemirror_mode": {
    "name": "ipython",
    "version": 3
   },
   "file_extension": ".py",
   "mimetype": "text/x-python",
   "name": "python",
   "nbconvert_exporter": "python",
   "pygments_lexer": "ipython3",
   "version": "3.7.8"
  }
 },
 "nbformat": 4,
 "nbformat_minor": 4
}
