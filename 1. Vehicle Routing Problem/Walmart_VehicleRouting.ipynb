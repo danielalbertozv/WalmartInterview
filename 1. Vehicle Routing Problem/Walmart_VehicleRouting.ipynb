{
 "cells": [
  {
   "cell_type": "markdown",
   "metadata": {},
   "source": [
    "<h1><center>Walmart</center></h1>\n",
    "<h2><center>Two Index Vehicle Routing Formulation</center></h2>\n",
    "\n",
    "Developed by: Daniel A. Zuniga Vazquez\\\n",
    "Date: 10/02/2021\\\n",
    "Version 1.0.0 \n",
    "\n",
    "Sets and indices\\\n",
    "$D$: Set of destinations, indexed by $i$, $j$.\n",
    "\n",
    "Parameters\\\n",
    "$c_{ij}$: Vehicle routing cost from vertex $i$ to vertex $j$.\\\n",
    "$K$: Number of vehicles.\\\n",
    "$MAX$: Maximum number of destinations a vehicle can be routed to.\n",
    "\n",
    "Variables\\\n",
    "$x_{ij}$: Binary variables that is 1 if a vehicle is routed from destination $i$ to destination $j$ and 0 otherwise.\\\n",
    "$y_i$: Integer variable that denotes the destination $i$ position in the vehicle routing.\n",
    "\n",
    "Problem Formulation\\\n",
    "$\n",
    "\\begin{align}\n",
    "\\min_{\\pmb{x},\\pmb{y}}~& \\sum_{i \\in D} \\sum_{j \\in D} c_{ij} x_{ij} & \\text{Minimize total cost}\\\\\n",
    "    \\text{s.t. } &  \\sum_{i \\in D} x_{ij} = 1, \\forall j \\in D \\setminus \\{0\\}: j \\neq i  & \\text{1.1a - Only one vehicle can enter a destination}\\\\\n",
    "    & \\sum_{j \\in D} x_{ij} = 1, \\forall i \\in D \\setminus \\{0\\}: i \\neq j & \\text{1.1b - Only one vehicle can leave a destination}\\\\\n",
    "    & \\sum_{i \\in D \\setminus \\{0\\}} x_{i0} = K & \\text{1.1c - Number of vehicles leaving the depot at destination 0}\\\\\n",
    "    & \\sum_{j \\in D \\setminus \\{0\\}} x_{0j} = K & \\text{1.1d - Number of vehicles entering the depot at destination 0}\\\\\n",
    "    & y_i - y_j + MAX~x_{ij} \\leq MAX -1,~\\forall i, j \\in D \\setminus \\{0\\} : i \\neq j  & \\text{1.1e - Subtour elimination (Miller-Tucker-Zemlin)}\\\\\n",
    "    & x_{i,j} \\in \\{0,1\\}, y_i \\in \\mathbb{Z},~\\forall i \\in I, \\forall j \\in J & \\text{1.1f - Domain}\n",
    "\\end{align}\n",
    "$\n"
   ]
  },
  {
   "cell_type": "code",
   "execution_count": null,
   "metadata": {},
   "outputs": [],
   "source": [
    "# For purposes of this Examples tutorial, we will restart the kernel for each problem\n",
    "import os\n",
    "os._exit(00)"
   ]
  },
  {
   "cell_type": "code",
   "execution_count": 1,
   "metadata": {},
   "outputs": [],
   "source": [
    "# To plot interactable figures and print in notebook\n",
    "%matplotlib notebook\n",
    "\n",
    "# Libraries\n",
    "import pandas as pd                #data manipulation and analysis library\n",
    "import numpy as np                 #array and matrices library\n",
    "from docplex.mp.model import Model #cplex library\n",
    "\n",
    "from IPython.core.debugger import set_trace #Library to help with debgging      Use set_trace()   if breakpoint is needed\n",
    "# Debugging commands ONLY use first letter\n",
    "# n(ext) execute the current statement (step over)\n",
    "# s(tep) execute and step into function\n",
    "# r(eturn) continue execution until the current function returns\n",
    "# c(ontinue) continue execution until a breakpoint is encountered\n",
    "# u(p) move one level up in the stack trace\n",
    "# d(own) move one level down in the stack trace"
   ]
  },
  {
   "cell_type": "code",
   "execution_count": 2,
   "metadata": {},
   "outputs": [],
   "source": [
    "# Reading parameters from external TXT\n",
    "#*******************************************\n",
    "# NOTE: for this purpose, a dummy initial row of zeros is added in the txt file matching the length of the last column\n",
    "\n",
    "# File name must be in the same directory as the python file, or you can use the complete path if not\n",
    "fileName = 'Walmart_TwoIndexVehicleRouting.txt'\n",
    "\n",
    "# Identify the length of the column\n",
    "columns = max(len(l.split()) for l in open(fileName))\n",
    "\n",
    "# Use panda read_table function to read all the values in a table\n",
    "tableValues = pd.read_table(fileName, \n",
    "                    delim_whitespace=True, \n",
    "                    header=None, \n",
    "                    usecols=range(columns), \n",
    "                    engine='python')\n",
    "\n",
    "# Transform the table values into a numpy array, missing values will be identified as NaN just to complete the matrix\n",
    "# Note that the dummy initial row of zeros is still there and integers will be read as float, so the integer conversion\n",
    "# required\n",
    "iData = np.array(tableValues)\n",
    "\n",
    "# Declare parameters\n",
    "D = int(iData[1][0])       # Set of destinations, cardinality\n",
    "\n",
    "# c[i][j]: Vehicle routing cost from vertex i to vertex j. \n",
    "c = {(i,j):int((iData[i+2][j])) for i in range(D) for j in range(D)} \n",
    "\n",
    "K = int(iData[D+3][0])     # Number of vehicles\n",
    "MAX = int(iData[D+3][0])   # Maximum number of destinations a vehicle can be routed to\n"
   ]
  },
  {
   "cell_type": "code",
   "execution_count": 3,
   "metadata": {},
   "outputs": [],
   "source": [
    "# Creates cplex model\n",
    "mycplex = Model('TwoIndexVehicleRouting_PYTHON')   #Name of Model"
   ]
  },
  {
   "cell_type": "code",
   "execution_count": 4,
   "metadata": {},
   "outputs": [],
   "source": [
    "# Declare variables\n",
    "\n",
    "# Auxiliary array to create binary variable name\n",
    "nameX = [(i,j) for i in range(D) for j in range(D)] \n",
    "# x[i][j]: Binary variables that is 1 if a vehicle is routed from destination i to destination j and 0 otherwise.\n",
    "x = mycplex.binary_var_dict(nameX, name='x')\n",
    "\n",
    "# Auxiliary array to create integer variable name\n",
    "nameY = [(i) for i in range(D)]  \n",
    "# y[i]: Integer variable that denotes the destination i position in the vehicle routing.\n",
    "y = mycplex.integer_var_dict(nameY, lb=0, ub=None, name='y',)\n"
   ]
  },
  {
   "cell_type": "code",
   "execution_count": 5,
   "metadata": {},
   "outputs": [],
   "source": [
    "# Create objective\n",
    "\n",
    "OBJ = 0\n",
    "for i in range(D):\n",
    "    for j in range(D):\n",
    "        OBJ += c[i,j] * x[i,j]\n",
    "\n",
    "mycplex.minimize(OBJ) "
   ]
  },
  {
   "cell_type": "code",
   "execution_count": 6,
   "metadata": {},
   "outputs": [],
   "source": [
    "# Adding constraints\n",
    "\n",
    "# Constraint 1.1a - Only one vehicle can enter a destination\n",
    "for j in range(1,D):\n",
    "    Cons1a = 0\n",
    "    for i in range(D):\n",
    "        if(i!=j):\n",
    "            Cons1a += x[i,j]\n",
    "    mycplex.add_constraint(Cons1a == 1)\n",
    "\n",
    "# Constraint 1.1b - Only one vehicle can leave a destination\n",
    "for i in range(1,D):\n",
    "    Cons1b = 0\n",
    "    for j in range(D):\n",
    "            if(i!=j):\n",
    "                Cons1b += x[i,j]\n",
    "    mycplex.add_constraint(Cons1b == 1)\n",
    "    \n",
    "# Constraint 1.1c - Number of vehicles leaving the depot at destination 0\n",
    "mycplex.add_constraint(sum(x[i,0] for i in range(1,D)) == K)\n",
    "\n",
    "# Constraint 1.1d - Number of vehicles entering the depot at destination 0\n",
    "mycplex.add_constraint(sum(x[0,j] for j in range(1,D)) == K)\n",
    "\n",
    "# Constraint 1.1e - Subtour elimination (Miller-Tucker-Zemlin)   \n",
    "for j in range(1,D):\n",
    "    for i in range(D):\n",
    "        if(i!=j):\n",
    "            mycplex.add_constraint(y[i] - y[j] + (MAX * x[i,j]) <= MAX - 1)"
   ]
  },
  {
   "cell_type": "code",
   "execution_count": 7,
   "metadata": {},
   "outputs": [
    {
     "data": {
      "text/plain": [
       "'TwoIndexVehicleRouting_PYTHON.mps'"
      ]
     },
     "execution_count": 7,
     "metadata": {},
     "output_type": "execute_result"
    }
   ],
   "source": [
    "#Export cplex model\n",
    "mycplex.export_as_lp('TwoIndexVehicleRouting_PYTHON')  # exports model in lp format\n",
    "mycplex.export_as_mps('TwoIndexVehicleRouting_PYTHON') # exports model in mps format"
   ]
  },
  {
   "cell_type": "code",
   "execution_count": 8,
   "metadata": {
    "scrolled": true
   },
   "outputs": [
    {
     "name": "stdout",
     "output_type": "stream",
     "text": [
      "Version identifier: 20.1.0.0 | 2020-11-10 | 9bedb6d68\n",
      "CPXPARAM_Read_DataCheck                          1\n",
      "Tried aggregator 1 time.\n",
      "MIP Presolve eliminated 0 rows and 18 columns.\n",
      "MIP Presolve modified 32 coefficients.\n",
      "Reduced MIP has 290 rows, 288 columns, and 1296 nonzeros.\n",
      "Reduced MIP has 272 binaries, 16 generals, 0 SOSs, and 0 indicators.\n",
      "Presolve time = 0.01 sec. (0.70 ticks)\n",
      "Probing time = 0.02 sec. (0.75 ticks)\n",
      "Cover probing fixed 0 vars, tightened 16 bounds.\n",
      "Tried aggregator 1 time.\n",
      "Detecting symmetries...\n",
      "MIP Presolve eliminated 16 rows and 0 columns.\n",
      "Reduced MIP has 274 rows, 288 columns, and 1264 nonzeros.\n",
      "Reduced MIP has 272 binaries, 16 generals, 0 SOSs, and 0 indicators.\n",
      "Presolve time = 0.00 sec. (0.90 ticks)\n",
      "Probing time = 0.02 sec. (0.74 ticks)\n",
      "Clique table members: 152.\n",
      "MIP emphasis: balance optimality and feasibility.\n",
      "MIP search method: dynamic search.\n",
      "Parallel mode: deterministic, using up to 8 threads.\n",
      "Root relaxation solution time = 0.00 sec. (0.46 ticks)\n",
      "\n",
      "        Nodes                                         Cuts/\n",
      "   Node  Left     Objective  IInf  Best Integer    Best Bound    ItCnt     Gap\n",
      "\n",
      "      0     0     7254.6667    25                   7254.6667       37         \n",
      "      0     0     7483.0000    34                    Cuts: 44       66         \n",
      "      0     0     7483.0000    29                    Cuts: 19       77         \n",
      "      0     0     7483.0000    28                     Cuts: 6       79         \n",
      "      0     0     7483.0000    15                 ZeroHalf: 2       80         \n",
      "      0     0     7483.0000    15                 ZeroHalf: 2       82         \n",
      "Detecting symmetries...\n",
      "*     0+    0                         7704.0000     7483.0000             2.87%\n",
      "      0     0        cutoff           7704.0000     7704.0000       82    0.00%\n",
      "Elapsed time = 0.11 sec. (18.94 ticks, tree = 0.01 MB, solutions = 1)\n",
      "\n",
      "Clique cuts applied:  3\n",
      "Implied bound cuts applied:  2\n",
      "Zero-half cuts applied:  5\n",
      "Multi commodity flow cuts applied:  4\n",
      "Gomory fractional cuts applied:  1\n",
      "\n",
      "Root node processing (before b&c):\n",
      "  Real time             =    0.11 sec. (18.96 ticks)\n",
      "Parallel b&c, 8 threads:\n",
      "  Real time             =    0.00 sec. (0.00 ticks)\n",
      "  Sync time (average)   =    0.00 sec.\n",
      "  Wait time (average)   =    0.00 sec.\n",
      "                          ------------\n",
      "Total (root+branch&cut) =    0.11 sec. (18.96 ticks)\n"
     ]
    }
   ],
   "source": [
    "# Solve Cplex model\n",
    "solution = mycplex.solve(log_output = True)"
   ]
  },
  {
   "cell_type": "code",
   "execution_count": 9,
   "metadata": {},
   "outputs": [
    {
     "name": "stdout",
     "output_type": "stream",
     "text": [
      "solution for: TwoIndexVehicleRouting_PYTHON\n",
      "objective: 7704\n",
      "x_0_5=1\n",
      "x_0_7=1\n",
      "x_0_8=1\n",
      "x_0_9=1\n",
      "x_0_12=1\n",
      "x_0_13=1\n",
      "x_1_0=1\n",
      "x_2_10=1\n",
      "x_3_4=1\n",
      "x_4_1=1\n",
      "x_5_0=1\n",
      "x_6_2=1\n",
      "x_7_0=1\n",
      "x_8_6=1\n",
      "x_9_0=1\n",
      "x_10_16=1\n",
      "x_11_15=1\n",
      "x_12_11=1\n",
      "x_13_0=1\n",
      "x_14_0=1\n",
      "x_15_3=1\n",
      "x_16_14=1\n",
      "y_1=6\n",
      "y_2=3\n",
      "y_3=4\n",
      "y_4=5\n",
      "y_5=1\n",
      "y_6=2\n",
      "y_7=1\n",
      "y_8=1\n",
      "y_9=1\n",
      "y_10=4\n",
      "y_11=2\n",
      "y_12=1\n",
      "y_13=1\n",
      "y_14=6\n",
      "y_15=3\n",
      "y_16=5\n",
      "\n"
     ]
    }
   ],
   "source": [
    "# Print Solutions\n",
    "print(solution)"
   ]
  }
 ],
 "metadata": {
  "kernelspec": {
   "display_name": "Python 3",
   "language": "python",
   "name": "python3"
  },
  "language_info": {
   "codemirror_mode": {
    "name": "ipython",
    "version": 3
   },
   "file_extension": ".py",
   "mimetype": "text/x-python",
   "name": "python",
   "nbconvert_exporter": "python",
   "pygments_lexer": "ipython3",
   "version": "3.7.8"
  }
 },
 "nbformat": 4,
 "nbformat_minor": 4
}
